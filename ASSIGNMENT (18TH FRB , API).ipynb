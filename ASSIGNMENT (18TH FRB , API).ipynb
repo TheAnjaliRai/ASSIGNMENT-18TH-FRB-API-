{
 "cells": [
  {
   "cell_type": "code",
   "execution_count": null,
   "id": "629fc7e8",
   "metadata": {},
   "outputs": [],
   "source": [
    "# QUES1 \n",
    "'''\n",
    "APIs are mechanisms that enable two software components to communicate with each other using a set of definitions and protocols\n",
    "For example, the weather bureau's software system contains daily weather data. The weather app on your phone “talks” to this system via APIs and shows you daily weather updates on your phone.\n",
    "\n",
    "'''"
   ]
  },
  {
   "cell_type": "code",
   "execution_count": null,
   "id": "254ef8c2",
   "metadata": {},
   "outputs": [],
   "source": [
    "# QUES2\n",
    "'''\n",
    "the advantages of API-\n",
    "APIs empower developers to be more productive by reusing code in complex but repetitive processes.\n",
    "They don't need to start from scratch as the API specifies how to assemble software components in a program.\n",
    "APIs exist to make it easy to interface with other developers' applications.\n",
    "the disadvantages of API-\n",
    "APIs are vulnerable to man-in-the-middle attacks, CSRF attacks, XSS attacks, SQL injection, and DDoS attacks.\n",
    "'''"
   ]
  },
  {
   "cell_type": "code",
   "execution_count": null,
   "id": "e08ae422",
   "metadata": {},
   "outputs": [],
   "source": [
    "# ques3\n",
    "\n",
    "'''\n",
    "API stands for Application Programming Interface.\n",
    "A Web API is an application programming interface for the Web.\n",
    "A Browser API can extend the functionality of a web browser.\n",
    "A Server API can extend the functionality of a web server.\n",
    "\n",
    "api uses TCP / IP protocol whereas web api uses http protocol\n",
    "web api is a category of api\n",
    "'''"
   ]
  },
  {
   "cell_type": "code",
   "execution_count": null,
   "id": "9f384d67",
   "metadata": {},
   "outputs": [],
   "source": [
    "# ques4\n",
    "'''\n",
    "REST is a set of architectural principles attuned to the needs of lightweight web services and mobile applications. \n",
    "Because it's a set of guidelines, it leaves the implementation of these recommendations to developers.\n",
    "\n",
    "SOAP is a standard protocol that was first designed so that applications built with different languages and on different platforms could communicate. \n",
    "Because it is a protocol, it imposes built-in rules that increase its complexity and overhead, which can lead to longer page load times.\n",
    "\n",
    "\n",
    "shortcommings of soap - \n",
    "Poorer performance, more complexity, less flexibility.\n",
    "'''"
   ]
  },
  {
   "cell_type": "code",
   "execution_count": null,
   "id": "32d95d7b",
   "metadata": {},
   "outputs": [],
   "source": [
    "# ques5\n",
    "\n",
    "'''\n",
    "SOAP - \n",
    "1)Relies on SOAP (Simple Object Access Protocol)\n",
    "2)Transports data in standard XML format.\n",
    "3)Because it is XML based and relies on SOAP, it works with WSDL\n",
    "\n",
    "REST\n",
    "1)Relies on REST (Representational State Transfer) architecture using HTTP.\n",
    "2)Generally transports data in JSON. It is based on URI. Because REST follows stateless model, REST does not enforces message format as XML or JSON etc.\n",
    "3)It works with GET, POST, PUT, DELETE\n",
    "\n",
    "'''"
   ]
  }
 ],
 "metadata": {
  "kernelspec": {
   "display_name": "Python 3 (ipykernel)",
   "language": "python",
   "name": "python3"
  },
  "language_info": {
   "codemirror_mode": {
    "name": "ipython",
    "version": 3
   },
   "file_extension": ".py",
   "mimetype": "text/x-python",
   "name": "python",
   "nbconvert_exporter": "python",
   "pygments_lexer": "ipython3",
   "version": "3.10.9"
  }
 },
 "nbformat": 4,
 "nbformat_minor": 5
}
